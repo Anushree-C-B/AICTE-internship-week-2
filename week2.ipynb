{
  "nbformat": 4,
  "nbformat_minor": 0,
  "metadata": {
    "colab": {
      "provenance": [],
      "authorship_tag": "ABX9TyMZllN6hSFwcgPT8wJbeLhf",
      "include_colab_link": true
    },
    "kernelspec": {
      "name": "python3",
      "display_name": "Python 3"
    },
    "language_info": {
      "name": "python"
    }
  },
  "cells": [
    {
      "cell_type": "markdown",
      "metadata": {
        "id": "view-in-github",
        "colab_type": "text"
      },
      "source": [
        "<a href=\"https://colab.research.google.com/github/Anushree-C-B/AICTE-internship-week-2/blob/main/week2.ipynb\" target=\"_parent\"><img src=\"https://colab.research.google.com/assets/colab-badge.svg\" alt=\"Open In Colab\"/></a>"
      ]
    },
    {
      "cell_type": "code",
      "execution_count": null,
      "metadata": {
        "id": "ZPWWZxSD0D-e"
      },
      "outputs": [],
      "source": [
        "# Get user input\n",
        "text = input(\"Enter a string: \")\n",
        "\n",
        "# Split the string into words\n",
        "words = text.split()\n",
        "\n",
        "# Count the number of words\n",
        "word_count = len(words)\n",
        "\n",
        "# Print the word count\n",
        "print(\"The word count is:\", word_count)\n"
      ]
    },
    {
      "cell_type": "code",
      "source": [],
      "metadata": {
        "id": "Nv10M21u1ReG"
      },
      "execution_count": null,
      "outputs": []
    }
  ]
}